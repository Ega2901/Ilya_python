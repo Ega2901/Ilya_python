{
 "cells": [
  {
   "cell_type": "markdown",
   "id": "f6e484b3-0339-4fbb-a9db-9eed09b7eda5",
   "metadata": {},
   "source": [
    "# Hw2 Рекурсия, ООП, генераторы, вложенные циклы"
   ]
  },
  {
   "cell_type": "markdown",
   "id": "77ebd86a-470c-43eb-b662-87c9f9f886a6",
   "metadata": {},
   "source": [
    "Рекурсия — это метод, при котором функция вызывает саму себя для решения подзадачи. Рекурсия часто используется для обхода структур данных, таких как деревья и графы, или для решения задач, которые можно разбить на более простые подзадачи.\n",
    "\n",
    "Пример рекурсии: Факториал числа"
   ]
  },
  {
   "cell_type": "code",
   "execution_count": 25,
   "id": "c04f02eb-4dd6-415d-9ff1-fe427670dcdd",
   "metadata": {},
   "outputs": [
    {
     "name": "stdout",
     "output_type": "stream",
     "text": [
      "120\n"
     ]
    }
   ],
   "source": [
    "def factorial(n):\n",
    "    if n == 0:\n",
    "        return 1\n",
    "    else:\n",
    "        return n * factorial(n - 1)\n",
    "\n",
    "print(factorial(5))"
   ]
  },
  {
   "cell_type": "markdown",
   "id": "3f577629-8255-487c-9055-b2f8de3b200f",
   "metadata": {},
   "source": [
    "\n",
    "### Пример рекурсии: Обход дерева\n",
    "\n",
    "   - Класс `TreeNode` представляет узел бинарного дерева.\n",
    "   - Функция `inorder_traversal` принимает узел и выполняет симметричный обход: сначала обходит левое поддерево, затем посещает текущий узел и, наконец, обходит правое поддерево.\n",
    "   - Это позволяет выводить значения узлов в отсортированном порядке."
   ]
  },
  {
   "cell_type": "code",
   "execution_count": 27,
   "id": "faa8a792-b783-47bd-92e6-c9e47d5fe6c6",
   "metadata": {},
   "outputs": [
    {
     "name": "stdout",
     "output_type": "stream",
     "text": [
      "4\n",
      "2\n",
      "5\n",
      "1\n",
      "3\n"
     ]
    }
   ],
   "source": [
    "class TreeNode:\n",
    "    def __init__(self, value):\n",
    "        self.value = value\n",
    "        self.left = None\n",
    "        self.right = None\n",
    "\n",
    "def inorder_traversal(node):\n",
    "    if node is not None:\n",
    "        inorder_traversal(node.left)\n",
    "        print(node.value)\n",
    "        inorder_traversal(node.right)\n",
    "\n",
    "\n",
    "root = TreeNode(1)\n",
    "root.left = TreeNode(2)\n",
    "root.right = TreeNode(3)\n",
    "root.left.left = TreeNode(4)\n",
    "root.left.right = TreeNode(5)\n",
    "inorder_traversal(root)"
   ]
  },
  {
   "cell_type": "markdown",
   "id": "42dc2c88-5993-4aaa-962f-ab8388fceb88",
   "metadata": {},
   "source": [
    "## Декоратор @dataclass\n",
    "Декоратор @dataclass упрощает создание классов, предназначенных для хранения данных. Он автоматически генерирует методы, такие как __init__(), __repr__() и другие.\n",
    "Пример использования @dataclass"
   ]
  },
  {
   "cell_type": "code",
   "execution_count": 21,
   "id": "107a248a-5eb9-434f-af25-74d9ed280385",
   "metadata": {},
   "outputs": [
    {
     "name": "stdout",
     "output_type": "stream",
     "text": [
      "Cat(name='Мурка', age=3)\n"
     ]
    }
   ],
   "source": [
    "from dataclasses import dataclass\n",
    "\n",
    "@dataclass\n",
    "class Cat:\n",
    "    name: str\n",
    "    age: int\n",
    "\n",
    "my_cat = Cat(name=\"Мурка\", age=3)\n",
    "print(my_cat)"
   ]
  },
  {
   "cell_type": "markdown",
   "id": "da453403-ce01-4465-8d21-531035bef292",
   "metadata": {},
   "source": [
    "## Работа с JSON\n",
    "JSON (JavaScript Object Notation) — это формат обмена данными, который легко читается и записывается человеком. В Python вы можете работать с JSON с помощью модуля json.\n",
    "Пример записи и чтения JSON"
   ]
  },
  {
   "cell_type": "code",
   "execution_count": 22,
   "id": "a9129e6f-3128-4d3f-b7a6-595ec84a3589",
   "metadata": {},
   "outputs": [
    {
     "name": "stdout",
     "output_type": "stream",
     "text": [
      "{'students': [{'name': 'Alice', 'grades': [85, 90]}, {'name': 'Bob', 'grades': [78, 82]}]}\n"
     ]
    }
   ],
   "source": [
    "import json\n",
    "\n",
    "# Данные для записи\n",
    "data = {\n",
    "    \"students\": [\n",
    "        {\"name\": \"Alice\", \"grades\": [85, 90]},\n",
    "        {\"name\": \"Bob\", \"grades\": [78, 82]}\n",
    "    ]\n",
    "}\n",
    "\n",
    "# Запись данных в файл\n",
    "with open('students.json', 'w', encoding='utf-8') as file:\n",
    "    json.dump(data, file, ensure_ascii=False, indent=4)\n",
    "\n",
    "# Чтение данных из файла\n",
    "with open('students.json', 'r', encoding='utf-8') as file:\n",
    "    loaded_data = json.load(file)\n",
    "print(loaded_data)"
   ]
  },
  {
   "cell_type": "markdown",
   "id": "0819b781-e410-4bd8-9de9-b3e4a0b357e8",
   "metadata": {},
   "source": [
    "## Генераторы\n",
    "Генераторы позволяют создавать итераторы более простым и удобным способом. Они используют оператор yield для возврата значений по одному за раз."
   ]
  },
  {
   "cell_type": "code",
   "execution_count": 23,
   "id": "fdadb28f-2171-4f8c-a387-617e5579cc34",
   "metadata": {},
   "outputs": [
    {
     "name": "stdout",
     "output_type": "stream",
     "text": [
      "1\n",
      "2\n",
      "3\n",
      "4\n",
      "5\n"
     ]
    }
   ],
   "source": [
    "def count_up_to(n):\n",
    "    count = 1\n",
    "    while count <= n:\n",
    "        yield count\n",
    "        count += 1\n",
    "\n",
    "for number in count_up_to(5):\n",
    "    print(number)"
   ]
  },
  {
   "cell_type": "markdown",
   "id": "885c7d81-54aa-40c7-993d-3ef52ecaf60d",
   "metadata": {},
   "source": [
    "## Задание\n",
    "У вас есть JSON-файл, содержащий информацию о студентах и их оценках. Необходимо извлечь данные о студентах, а затем сгенерировать все возможные комбинации их оценок для анализа. Используйте рекурсию для обработки вложенных структур, генераторы для создания комбинаций и ООП для организации кода."
   ]
  },
  {
   "cell_type": "code",
   "execution_count": 18,
   "id": "f0c6580b-8928-4a4f-a0a2-c433b1b29436",
   "metadata": {},
   "outputs": [],
   "source": [
    "import json\n",
    "from itertools import product\n",
    "from dataclasses import dataclass\n",
    "\n",
    "@dataclass\n",
    "class Student:\n",
    "    \"\"\"Класс для представления студента.\n",
    "\n",
    "    Attributes:\n",
    "        name (str): Имя студента.\n",
    "        grades (list): Список оценок студента.\n",
    "    \"\"\"\n",
    "\n",
    "class GradeProcessor:\n",
    "    \"\"\"Класс для обработки оценок студентов.\n",
    "\n",
    "    Attributes:\n",
    "        students (list): Список объектов Student.\n",
    "    \"\"\"\n",
    "\n",
    "    def __init__(self, data):\n",
    "        \"\"\"Инициализация GradeProcessor с данными студентов.\n",
    "\n",
    "        Args:\n",
    "            data (dict): Словарь с данными студентов.\n",
    "        \"\"\"\n",
    "        pass\n",
    "\n",
    "    def load_data(self, data):\n",
    "        \"\"\"Загрузка данных студентов из словаря.\n",
    "\n",
    "        Args:\n",
    "            data (dict): Словарь с данными студентов.\n",
    "\n",
    "        Returns:\n",
    "            list: Список объектов Student.\n",
    "        \"\"\"\n",
    "        pass\n",
    "\n",
    "    def generate_grade_combinations(self):\n",
    "        \"\"\"Генерация всех возможных комбинаций оценок студентов.\n",
    "\n",
    "        Yields:\n",
    "            tuple: Комбинация оценок.\n",
    "        \"\"\"\n",
    "        pass\n",
    "\n",
    "    def process_students(self):\n",
    "        \"\"\"Обработка и вывод информации о студентах.\"\"\"\n",
    "        pass\n",
    "\n"
   ]
  },
  {
   "cell_type": "code",
   "execution_count": 29,
   "id": "aa858124-edcf-467b-9fd0-e534b6d4fa9e",
   "metadata": {},
   "outputs": [],
   "source": [
    "#Проверьте свой класс"
   ]
  }
 ],
 "metadata": {
  "kernelspec": {
   "display_name": "Python 3 (ipykernel)",
   "language": "python",
   "name": "python3"
  },
  "language_info": {
   "codemirror_mode": {
    "name": "ipython",
    "version": 3
   },
   "file_extension": ".py",
   "mimetype": "text/x-python",
   "name": "python",
   "nbconvert_exporter": "python",
   "pygments_lexer": "ipython3",
   "version": "3.13.1"
  }
 },
 "nbformat": 4,
 "nbformat_minor": 5
}
